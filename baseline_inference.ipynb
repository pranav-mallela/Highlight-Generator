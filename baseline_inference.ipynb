{
 "cells": [
  {
   "cell_type": "markdown",
   "id": "034365d0-dc94-4088-a99a-c7d4a1458a99",
   "metadata": {},
   "source": [
    "## Setup"
   ]
  },
  {
   "cell_type": "code",
   "execution_count": 2,
   "id": "ccb28bd5-60ac-4280-90d6-d7cf5417ea44",
   "metadata": {},
   "outputs": [],
   "source": [
    "video_path = \"/home/naveenu/1_224p.mkv\"\n",
    "output_path = \"/home/naveenu/frames\"\n",
    "part_path = \"/home/naveenu/parts\""
   ]
  },
  {
   "cell_type": "markdown",
   "id": "5a05c432-51f0-4f58-b86c-09f8eaa9905e",
   "metadata": {},
   "source": [
    "## Model"
   ]
  },
  {
   "cell_type": "code",
   "execution_count": 3,
   "id": "5805f8cc-e5c7-4efa-b368-c31b488267a9",
   "metadata": {},
   "outputs": [
    {
     "name": "stderr",
     "output_type": "stream",
     "text": [
      "/home/naveenu/.local/lib/python3.12/site-packages/tqdm/auto.py:21: TqdmWarning: IProgress not found. Please update jupyter and ipywidgets. See https://ipywidgets.readthedocs.io/en/stable/user_install.html\n",
      "  from .autonotebook import tqdm as notebook_tqdm\n",
      "`Qwen2VLRotaryEmbedding` can now be fully parameterized by passing the model config through the `config` argument. All other arguments will be removed in v4.46\n",
      "Loading checkpoint shards: 100%|██████████| 2/2 [00:10<00:00,  5.09s/it]\n"
     ]
    }
   ],
   "source": [
    "from transformers import Qwen2VLForConditionalGeneration, AutoTokenizer, AutoProcessor\n",
    "from qwen_vl_utils import process_vision_info\n",
    "import torch\n",
    "\n",
    "# default: Load the model on the available device(s)\n",
    "model = Qwen2VLForConditionalGeneration.from_pretrained(\n",
    "    \"Qwen/Qwen2-VL-7B-Instruct-AWQ\",\n",
    "    torch_dtype=torch.float16,\n",
    "    attn_implementation=\"flash_attention_2\",\n",
    "    device_map=\"auto\"\n",
    ")\n",
    "\n",
    "# default processer\n",
    "processor = AutoProcessor.from_pretrained(\"Qwen/Qwen2-VL-7B-Instruct-AWQ\")"
   ]
  },
  {
   "cell_type": "code",
   "execution_count": 4,
   "id": "f1e9e8aa-b144-481a-a7eb-99b149a9ddbe",
   "metadata": {},
   "outputs": [],
   "source": [
    "import os\n",
    "from math import ceil\n",
    "\n",
    "def get_frame_list(output_path, fraction=0.1):\n",
    "    # Get all jpg files in the directory\n",
    "    all_frames = sorted([f for f in os.listdir(output_path) if f.endswith('.jpg')])\n",
    "\n",
    "    total_frames = len(all_frames)\n",
    "    frames_to_keep = ceil(total_frames * fraction)\n",
    "\n",
    "    # Calculate the step size to evenly distribute the selected frames\n",
    "    step = total_frames // frames_to_keep\n",
    "\n",
    "    # Select the frames\n",
    "    selected_frames = all_frames[::step][:frames_to_keep]\n",
    "\n",
    "    # Create the full paths for the selected frames\n",
    "    frame_paths = [f\"file://{os.path.join(output_path, frame)}\" for frame in selected_frames]\n",
    "\n",
    "    return frame_paths"
   ]
  },
  {
   "cell_type": "code",
   "execution_count": 5,
   "id": "2b7d256d-1c33-44c8-a4b3-eea7fe6d1ab0",
   "metadata": {},
   "outputs": [],
   "source": [
    "def query_video(prompt, use_frames=True, frames_path=output_path, video_path=None):\n",
    "    if use_frames:\n",
    "        # Get the frames\n",
    "        selected_frames = get_frame_list(output_path)\n",
    "\n",
    "        # Create messages structure for frames\n",
    "        messages = [\n",
    "            {\n",
    "                \"role\": \"user\",\n",
    "                \"content\": [\n",
    "                    {\n",
    "                        \"type\": \"video\",\n",
    "                        \"video\": selected_frames,\n",
    "                        \"fps\": 1.0,\n",
    "                    },\n",
    "                    {\"type\": \"text\", \"text\": prompt},\n",
    "                ],\n",
    "            }\n",
    "        ]\n",
    "    else:\n",
    "        # Create messages structure for the entire video\n",
    "        messages = [\n",
    "            {\n",
    "                \"role\": \"user\",\n",
    "                \"content\": [\n",
    "                    {\n",
    "                        \"type\": \"video\",\n",
    "                        \"video\": f\"file://{video_path}\",\n",
    "                        \"max_pixels\": 360 * 420,\n",
    "                        \"fps\": 1.0,\n",
    "                    },\n",
    "                    {\"type\": \"text\", \"text\": prompt},\n",
    "                ],\n",
    "            }\n",
    "        ]\n",
    "\n",
    "    print(f\"Using {'frames' if use_frames else 'entire video'} for inference.\")\n",
    "\n",
    "    # Preparation for inference\n",
    "    text = processor.apply_chat_template(\n",
    "        messages, tokenize=False, add_generation_prompt=True\n",
    "    )\n",
    "    image_inputs, video_inputs = process_vision_info(messages)\n",
    "    if not use_frames:\n",
    "      print(f\"Video input shape: {video_inputs[0].shape}\")\n",
    "      num_frames, _, resized_height, resized_width = video_inputs[0].shape\n",
    "      print(f\"# of video tokens: {int(num_frames / 2 * resized_height / 28 * resized_width / 28)}\")\n",
    "    inputs = processor(\n",
    "        text=[text],\n",
    "        images=image_inputs,\n",
    "        videos=video_inputs,\n",
    "        padding=True,\n",
    "        return_tensors=\"pt\",\n",
    "    )\n",
    "    inputs = inputs.to(\"cuda\")\n",
    "\n",
    "    # Inference\n",
    "    with torch.no_grad():  # Use no_grad to save memory during inference\n",
    "        generated_ids = model.generate(**inputs, max_new_tokens=128)\n",
    "\n",
    "    # Trim the generated output to remove the input prompt\n",
    "    generated_ids_trimmed = [\n",
    "        out_ids[len(in_ids):] for in_ids, out_ids in zip(inputs.input_ids, generated_ids)\n",
    "    ]\n",
    "\n",
    "    # Decode the generated text\n",
    "    output_text = processor.batch_decode(\n",
    "        generated_ids_trimmed, skip_special_tokens=True, clean_up_tokenization_spaces=False\n",
    "    )\n",
    "\n",
    "    print(output_text)\n",
    "    torch.cuda.empty_cache()"
   ]
  },
  {
   "cell_type": "markdown",
   "id": "ff6006d9-7a9f-4243-8343-71ca9b955e4a",
   "metadata": {},
   "source": [
    "## Data"
   ]
  },
  {
   "cell_type": "code",
   "execution_count": 6,
   "id": "e68d5b5e-32af-4dca-894d-7b3fdce35989",
   "metadata": {},
   "outputs": [],
   "source": [
    "### Generating"
   ]
  },
  {
   "cell_type": "code",
   "execution_count": 7,
   "id": "18c4bf2b-6b34-4c4e-a607-0f2c7a55fd0c",
   "metadata": {},
   "outputs": [],
   "source": [
    "# !echo \"Path has $(ls {output_path} | wc -l) frames before cleanup\"\n",
    "# ! rm -rf {output_path}\n",
    "# !mkdir -p {output_path}\n",
    "# !~/.conda/envs/eecs545/bin/ffmpeg -i {video_path} -loglevel -8 -r 1 -s 360x420 -q:v 2 -start_number 0 {output_path}/'%05d.jpg'\n",
    "\n",
    "# !echo \"Generated $(ls {output_path} | wc -l) frames\""
   ]
  },
  {
   "cell_type": "code",
   "execution_count": 10,
   "id": "c2ee731f-df8f-4456-a55a-650141aef444",
   "metadata": {},
   "outputs": [
    {
     "name": "stdout",
     "output_type": "stream",
     "text": [
      "Generated 9 parts\n"
     ]
    }
   ],
   "source": [
    "# !echo \"Path has $(ls {part_path} | wc -l) parts before cleanup\"\n",
    "!rm -rf {part_path}\n",
    "!mkdir -p {part_path}\n",
    "!~/.conda/envs/eecs545/bin/ffmpeg -i {video_path} -loglevel -8  -c copy -map 0 -segment_time 00:05:00 -f segment -reset_timestamps 1 {part_path}/'%03d.mkv'\n",
    "\n",
    "!echo \"Generated $(ls {part_path} | wc -l) parts\""
   ]
  },
  {
   "cell_type": "markdown",
   "id": "217fae04-edd2-4d6a-8b0b-f9536e1dfa65",
   "metadata": {},
   "source": [
    "## Inference"
   ]
  },
  {
   "cell_type": "markdown",
   "id": "5f275657-aa80-4ed1-8f75-a2befd88e670",
   "metadata": {},
   "source": [
    "### Using Frames"
   ]
  },
  {
   "cell_type": "code",
   "execution_count": 8,
   "id": "12b8c77b-8ae8-469d-a9a8-94cca16edcca",
   "metadata": {},
   "outputs": [],
   "source": [
    "# query_video(\"describe the video in detail\",\n",
    "#             use_frames=True, video_path=f\"{part_path}/000.mp4\")"
   ]
  },
  {
   "cell_type": "code",
   "execution_count": 9,
   "id": "16897447-c770-4803-bc5b-143a53372982",
   "metadata": {},
   "outputs": [],
   "source": [
    "# query_video(\"What is the outfit's color of the gymnast?\",\n",
    "#             use_frames=True, video_path=video_path)"
   ]
  },
  {
   "cell_type": "markdown",
   "id": "6211e30a-731e-49ac-a473-3568f79f5d7e",
   "metadata": {},
   "source": [
    "### Using Entire Video"
   ]
  },
  {
   "cell_type": "code",
   "execution_count": 10,
   "id": "565a12d6-88ed-4cd6-8cc4-39f5ee9ccf40",
   "metadata": {},
   "outputs": [],
   "source": [
    "# query_video(\"describe the video in detail\",\n",
    "#             use_frames=False, video_path=f\"{part_path}/000.mkv\")"
   ]
  },
  {
   "cell_type": "code",
   "execution_count": 11,
   "id": "ad83a81c-d7ad-4009-b56b-f92e4b6e5ce7",
   "metadata": {},
   "outputs": [
    {
     "name": "stdout",
     "output_type": "stream",
     "text": [
      "Using entire video for inference.\n"
     ]
    },
    {
     "name": "stderr",
     "output_type": "stream",
     "text": [
      "qwen-vl-utils using decord to read video.\n"
     ]
    },
    {
     "name": "stdout",
     "output_type": "stream",
     "text": [
      "Video input shape: torch.Size([306, 3, 252, 448])\n",
      "# of video tokens: 22032\n",
      "['The first foul occurs at 0:00:08.']\n"
     ]
    }
   ],
   "source": [
    "query_video(\"Given the scorebug on the top left of the video, at what time in the game does the first foul occur?\",\n",
    "            use_frames=False, video_path=f\"{part_path}/000.mkv\")"
   ]
  },
  {
   "cell_type": "code",
   "execution_count": 12,
   "id": "684dd926-2786-4635-9b89-3d1c952b2272",
   "metadata": {},
   "outputs": [
    {
     "name": "stdout",
     "output_type": "stream",
     "text": [
      "Using entire video for inference.\n",
      "Video input shape: torch.Size([306, 3, 252, 448])\n",
      "# of video tokens: 22032\n",
      "['The first foul occurs at 0:00:12.']\n"
     ]
    }
   ],
   "source": [
    "query_video(\"At what time in the game does the first foul occur?\",\n",
    "            use_frames=False, video_path=f\"{part_path}/000.mkv\")"
   ]
  },
  {
   "cell_type": "code",
   "execution_count": 13,
   "id": "446080d6-6bae-4626-a940-bcf7a1879b7b",
   "metadata": {},
   "outputs": [
    {
     "name": "stdout",
     "output_type": "stream",
     "text": [
      "Using entire video for inference.\n",
      "Video input shape: torch.Size([306, 3, 252, 448])\n",
      "# of video tokens: 22032\n",
      "['The goalkeeper in orange makes their first save at the 0:25 mark.']\n"
     ]
    }
   ],
   "source": [
    "query_video(\"At what time in the game does the goalkeeper in orange make their first save?\",\n",
    "            use_frames=False, video_path=f\"{part_path}/000.mkv\")"
   ]
  },
  {
   "cell_type": "code",
   "execution_count": 14,
   "id": "3bd2c861-ac87-4829-8f76-664f192c7f14",
   "metadata": {},
   "outputs": [
    {
     "name": "stdout",
     "output_type": "stream",
     "text": [
      "Using entire video for inference.\n",
      "Video input shape: torch.Size([306, 3, 252, 448])\n",
      "# of video tokens: 22032\n",
      "['The scoreline at the end of the 4th minute is 0-0.']\n"
     ]
    }
   ],
   "source": [
    "query_video(\"What is the scoreline at the end of the 4th minute?\",\n",
    "            use_frames=False, video_path=f\"{part_path}/000.mkv\")"
   ]
  },
  {
   "cell_type": "code",
   "execution_count": 15,
   "id": "96ab8f0c-5c0f-4f6a-9e78-f9c00567ded9",
   "metadata": {},
   "outputs": [
    {
     "name": "stdout",
     "output_type": "stream",
     "text": [
      "Using entire video for inference.\n",
      "Video input shape: torch.Size([306, 3, 252, 448])\n",
      "# of video tokens: 22032\n",
      "['Yes, the clip shows a goal being scored by a player in a blue uniform.']\n"
     ]
    }
   ],
   "source": [
    "query_video(\"Does the clip contain a goal?\",\n",
    "            use_frames=False, video_path=f\"{part_path}/000.mkv\")"
   ]
  },
  {
   "cell_type": "code",
   "execution_count": 18,
   "id": "0d9b134b-f4ac-4bc7-92bb-1fd4e280c77f",
   "metadata": {},
   "outputs": [
    {
     "name": "stdout",
     "output_type": "stream",
     "text": [
      "Using entire video for inference.\n",
      "Video input shape: torch.Size([306, 3, 252, 448])\n",
      "# of video tokens: 22032\n",
      "['The goalkeepers are wearing yellow jerseys.']\n"
     ]
    }
   ],
   "source": [
    "query_video(\"What color jerseys are the goalkeepers wearing?\",\n",
    "            use_frames=False, video_path=f\"{part_path}/000.mkv\")"
   ]
  }
 ],
 "metadata": {
  "kernelspec": {
   "display_name": "conda:eecs545",
   "language": "python",
   "name": "eecs545"
  },
  "language_info": {
   "codemirror_mode": {
    "name": "ipython",
    "version": 3
   },
   "file_extension": ".py",
   "mimetype": "text/x-python",
   "name": "python",
   "nbconvert_exporter": "python",
   "pygments_lexer": "ipython3",
   "version": "3.12.9"
  }
 },
 "nbformat": 4,
 "nbformat_minor": 5
}
